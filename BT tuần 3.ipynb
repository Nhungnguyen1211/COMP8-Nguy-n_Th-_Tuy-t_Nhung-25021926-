{
  "nbformat": 4,
  "nbformat_minor": 0,
  "metadata": {
    "colab": {
      "provenance": []
    },
    "kernelspec": {
      "name": "python3",
      "display_name": "Python 3"
    },
    "language_info": {
      "name": "python"
    }
  },
  "cells": [
    {
      "cell_type": "code",
      "execution_count": null,
      "metadata": {
        "colab": {
          "base_uri": "https://localhost:8080/"
        },
        "id": "9EMV4XWL_LiP",
        "outputId": "bc61e248-afcb-4e6c-e719-2fb985a1da16"
      },
      "outputs": [
        {
          "output_type": "stream",
          "name": "stdout",
          "text": [
            "1234\n",
            "4321\n"
          ]
        }
      ],
      "source": [
        "# bài 1\n",
        "n= int(input())\n",
        "reversed_n=0\n",
        "while n!=0 :\n",
        "  first_number=n%10\n",
        "  reversed_n= reversed_n*10+first_number\n",
        "  n=n//10\n",
        "print(reversed_n)"
      ]
    },
    {
      "cell_type": "code",
      "source": [
        "#bài 2\n",
        "a,b=map(int,input().split())\n",
        "a=a^b\n",
        "b=a^b\n",
        "a=a^b\n",
        "print(a,b)"
      ],
      "metadata": {
        "colab": {
          "base_uri": "https://localhost:8080/"
        },
        "id": "6S9tWOb4AlCh",
        "outputId": "ca48e22b-8f04-439a-db71-83b5398075c2"
      },
      "execution_count": null,
      "outputs": [
        {
          "output_type": "stream",
          "name": "stdout",
          "text": [
            "1 2\n",
            "2 1\n"
          ]
        }
      ]
    },
    {
      "cell_type": "code",
      "source": [
        "# bài 3\n",
        "n=int(input())\n",
        "if n&(n-1)==0:\n",
        "  print(\"True\")\n",
        "else:\n",
        "  print(\"False\")"
      ],
      "metadata": {
        "colab": {
          "base_uri": "https://localhost:8080/"
        },
        "id": "2KNoVIH5O90t",
        "outputId": "b8c47f0c-40cf-44b0-f625-8d679314c4aa"
      },
      "execution_count": null,
      "outputs": [
        {
          "output_type": "stream",
          "name": "stdout",
          "text": [
            "4212332\n",
            "False\n"
          ]
        }
      ]
    },
    {
      "cell_type": "code",
      "source": [
        "# bài 4\n",
        "m,n= map(int,input().split())\n",
        "a=m%n\n",
        "b=m-a\n",
        "print(\"kết quả phép chia làm tròn xuống\",b//n)\n",
        "\n"
      ],
      "metadata": {
        "colab": {
          "base_uri": "https://localhost:8080/"
        },
        "id": "SSgJRVsjSGtn",
        "outputId": "4fd8baff-1a01-43d7-d86c-220caec5aa9b"
      },
      "execution_count": null,
      "outputs": [
        {
          "output_type": "stream",
          "name": "stdout",
          "text": [
            "2442 2\n",
            "kết quả phép chia làm tròn xuống 1221\n"
          ]
        }
      ]
    },
    {
      "cell_type": "code",
      "source": [
        "\n",
        "# bài 5\n",
        "m,n=map(int,input().split())\n",
        "a=m%n\n",
        "b=m+a\n",
        "print(\"kết quả phép chia làm tròn lên\",b//n)\n"
      ],
      "metadata": {
        "id": "d4sRt09wYvrX",
        "colab": {
          "base_uri": "https://localhost:8080/"
        },
        "outputId": "26e05b94-0194-4248-fa07-c83775ba1849"
      },
      "execution_count": 17,
      "outputs": [
        {
          "output_type": "stream",
          "name": "stdout",
          "text": [
            "67426 11\n",
            "kết quả phép chia làm tròn lên 6130\n"
          ]
        }
      ]
    },
    {
      "cell_type": "code",
      "source": [
        "# bài 6\n",
        "n=int(input())\n",
        "if n%2==0:\n",
        "  print(\"Even\")\n",
        "else:\n",
        "  print(\"Odd\")"
      ],
      "metadata": {
        "colab": {
          "base_uri": "https://localhost:8080/"
        },
        "id": "uMAeaL9NYq_C",
        "outputId": "5ed85630-39b4-49ff-9ba2-1f7ac954ec69"
      },
      "execution_count": null,
      "outputs": [
        {
          "output_type": "stream",
          "name": "stdout",
          "text": [
            "3\n",
            "Odd\n"
          ]
        }
      ]
    },
    {
      "cell_type": "code",
      "source": [
        "# bài 7\n",
        "a=int(input())\n",
        "b=int(input())\n",
        "if a<0 and b<0:\n",
        "  print(\"Yes\")\n",
        "else:\n",
        "  print(\"No\")"
      ],
      "metadata": {
        "colab": {
          "base_uri": "https://localhost:8080/"
        },
        "id": "ZDnpKcM5Z8lJ",
        "outputId": "75810d23-17d6-4d48-fcf7-c79491945574"
      },
      "execution_count": null,
      "outputs": [
        {
          "output_type": "stream",
          "name": "stdout",
          "text": [
            "0 \n",
            "0\n",
            "No\n"
          ]
        }
      ]
    },
    {
      "cell_type": "code",
      "source": [
        "# bài 8\n",
        "a=input()\n",
        "b=input()\n",
        "longa=len(list(a))\n",
        "longb=len(list(b))\n",
        "if longa>longb:\n",
        "  print(\"True\")\n",
        "else:\n",
        "  print(\"False\")"
      ],
      "metadata": {
        "id": "H4T6XBxWbECM",
        "colab": {
          "base_uri": "https://localhost:8080/"
        },
        "outputId": "1a15a297-1113-4b77-ede6-786dba196443"
      },
      "execution_count": null,
      "outputs": [
        {
          "output_type": "stream",
          "name": "stdout",
          "text": [
            "mouse\n",
            "dog\n",
            "True\n"
          ]
        }
      ]
    },
    {
      "cell_type": "code",
      "source": [
        "# Bài 9\n",
        "a=int(input())\n",
        "b=int(input())\n",
        "c=int(input())\n",
        "if a+b>c and a+c>b and b+c>a :\n",
        "  print(\"Yes\")\n",
        "else:\n",
        "  print(\"No\")"
      ],
      "metadata": {
        "colab": {
          "base_uri": "https://localhost:8080/"
        },
        "id": "U-8U0gBBehf0",
        "outputId": "f8627b91-d7fc-4e58-abcd-61d76b6e3b98"
      },
      "execution_count": null,
      "outputs": [
        {
          "output_type": "stream",
          "name": "stdout",
          "text": [
            "3\n",
            "4\n",
            "5\n",
            "Yes\n"
          ]
        }
      ]
    },
    {
      "cell_type": "code",
      "source": [
        "# Bài 10\n",
        "a,b,c,d=map(int,input().split())\n",
        "if a>=b and a>=c and a>=d:\n",
        "  print(a)\n",
        "elif b>=a and b>=c and b>=d:\n",
        "  print(b)\n",
        "elif c>=a and c>=b and c>=d:\n",
        "  print(c)\n",
        "else:\n",
        "  print(d)"
      ],
      "metadata": {
        "colab": {
          "base_uri": "https://localhost:8080/"
        },
        "id": "3yl5-uLZfPC8",
        "outputId": "c5c15a92-d1b1-4ba3-d5ce-63e5c204006c"
      },
      "execution_count": null,
      "outputs": [
        {
          "output_type": "stream",
          "name": "stdout",
          "text": [
            "-1 -1 -1 -1\n",
            "-1\n"
          ]
        }
      ]
    },
    {
      "cell_type": "code",
      "source": [
        "# Bài 11\n",
        "a,b,c=map(int,input().split())\n",
        "if a+b>c and b+c>a and a+c>b:\n",
        "  if a**2+b**2==c**2 or c**2+b**2==a**2 or a**2+c**2==b**2:\n",
        "    print(\"Tam giác vuông\")\n",
        "  elif a==b==c:\n",
        "    print(\"Tam giác đều\")\n",
        "  elif a==b or a==c or b==c:\n",
        "    print(\"Tam giác cân\")\n",
        "  else:\n",
        "    print(\"Tam giác thường\")\n",
        "else:\n",
        "  print(\"Không phải tam giác\")"
      ],
      "metadata": {
        "colab": {
          "base_uri": "https://localhost:8080/"
        },
        "id": "bgWoo9fYfWZg",
        "outputId": "05925806-d7d8-4eeb-c89a-af660064b3ae"
      },
      "execution_count": null,
      "outputs": [
        {
          "output_type": "stream",
          "name": "stdout",
          "text": [
            "0 0 0\n",
            "Không phải tam giác\n"
          ]
        }
      ]
    },
    {
      "cell_type": "code",
      "source": [
        "# Bài 12\n",
        "n=int(input())\n",
        "if (n%4==0 and n%100!=0) or (n%400==0):\n",
        "  print(\"Yes\")\n",
        "else:\n",
        "  print(\"No\")"
      ],
      "metadata": {
        "colab": {
          "base_uri": "https://localhost:8080/"
        },
        "id": "VhICtEJbfYnU",
        "outputId": "1a8c7c66-1d59-4f92-dff2-c221e017f816"
      },
      "execution_count": null,
      "outputs": [
        {
          "output_type": "stream",
          "name": "stdout",
          "text": [
            "1900\n",
            "No\n"
          ]
        }
      ]
    },
    {
      "cell_type": "code",
      "source": [
        "# Bài 13\n",
        "n= int(input())\n",
        "if 0<=n<=50:\n",
        "  tien=1500*n\n",
        "elif n<=100:\n",
        "  tien=50*1500+(n-50)*2000\n",
        "else:\n",
        "  tien=50*1500+50*2000+(n-100)*3000\n",
        "print(tien)"
      ],
      "metadata": {
        "colab": {
          "base_uri": "https://localhost:8080/"
        },
        "id": "ndDvcIhBk295",
        "outputId": "2abe0dc2-a498-4a00-a23e-ef23fa79ca69"
      },
      "execution_count": null,
      "outputs": [
        {
          "output_type": "stream",
          "name": "stdout",
          "text": [
            "100\n",
            "175000\n"
          ]
        }
      ]
    },
    {
      "cell_type": "code",
      "source": [
        "# Bài 14\n",
        "a= float(input())\n",
        "b=float(input())\n",
        "if a==0 and b==0:\n",
        "  print(\"Phương trình vô số nghiệm\")\n",
        "elif a==0 and b!=0:\n",
        "  print(\"Phương trình vô nghiệm\")\n",
        "else:\n",
        "    print(\"Phương trình có nghiệm x=\", f\"{-b/a:.2f}\")"
      ],
      "metadata": {
        "id": "bSzJHumufat8",
        "colab": {
          "base_uri": "https://localhost:8080/"
        },
        "outputId": "e34370e9-cdf0-4419-fea4-3baabdb90207"
      },
      "execution_count": 9,
      "outputs": [
        {
          "output_type": "stream",
          "name": "stdout",
          "text": [
            "2.4\n",
            "1.22\n",
            "Phương trình có nghiệm x= -0.51\n"
          ]
        }
      ]
    },
    {
      "cell_type": "code",
      "source": [
        "# Bài 15\n",
        "diem=float(input())\n",
        "if diem >= 8:\n",
        "  print(\"Giỏi\")\n",
        "elif diem >= 6.5:\n",
        "  print(\"Khá\")\n",
        "elif diem >= 5.0:\n",
        "  print(\"Trung bình\")\n",
        "else :\n",
        "  print(\"Yếu\")"
      ],
      "metadata": {
        "id": "_OQxj51vk_Ow",
        "colab": {
          "base_uri": "https://localhost:8080/"
        },
        "outputId": "7d35c8d4-371b-494f-afb3-2817f8168612"
      },
      "execution_count": 14,
      "outputs": [
        {
          "output_type": "stream",
          "name": "stdout",
          "text": [
            "4.9\n",
            "Yếu\n"
          ]
        }
      ]
    },
    {
      "cell_type": "code",
      "source": [
        "# Bài 16\n",
        "m=n=float(input())\n",
        "if m>=0:\n",
        "  while m>=1:\n",
        "    m-=1\n",
        "  if m==0:\n",
        "      print(int(n),int(n),int(n),sep=\" \")\n",
        "  elif m>= 0.5:\n",
        "      print(int(n+(1-m)),int(n-m),int(n+(1-m)),sep=\" \")\n",
        "  else:\n",
        "      print(int(n+(1-m)),int(n-m),int(n-m),sep=\" \")\n",
        "else:\n",
        "  while m<=-1:\n",
        "    m+=1\n",
        "  if m==0:\n",
        "      print(int(n),int(n),int(n),sep=\" \")\n",
        "  elif m>-0.5:\n",
        "      print(int(n-m),int(n+(-1-m)),int(n-m), sep=\" \")\n",
        "  else:\n",
        "      print(int(n-m),int(n+(-1-m)),int(n+(-1-m)),sep=\" \")\n",
        "\n",
        ""
      ],
      "metadata": {
        "id": "ifGKCheklCJD",
        "colab": {
          "base_uri": "https://localhost:8080/"
        },
        "outputId": "c6d78d01-fe2c-45fe-83b4-48f6ee613661"
      },
      "execution_count": 62,
      "outputs": [
        {
          "output_type": "stream",
          "name": "stdout",
          "text": [
            "7.4\n",
            "8 7 7\n"
          ]
        }
      ]
    }
  ]
}