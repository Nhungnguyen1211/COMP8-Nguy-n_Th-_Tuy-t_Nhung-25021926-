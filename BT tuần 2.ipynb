{
  "cells": [
    {
      "cell_type": "code",
      "execution_count": null,
      "metadata": {
        "colab": {
          "base_uri": "https://localhost:8080/"
        },
        "id": "BcgCzzE8mp25",
        "outputId": "dc2c107d-faa7-4931-841b-182b8fa3bf52"
      },
      "outputs": [
        {
          "name": "stdout",
          "output_type": "stream",
          "text": [
            "Hello World!\n"
          ]
        }
      ],
      "source": [
        "#W2A1\n",
        "print(\"Hello World!\")\n"
      ]
    },
    {
      "cell_type": "code",
      "execution_count": 9,
      "metadata": {
        "colab": {
          "base_uri": "https://localhost:8080/"
        },
        "id": "bxwGXfD_3lJy",
        "outputId": "f24cede8-6e32-4b0f-a346-b426113435e7"
      },
      "outputs": [
        {
          "name": "stdout",
          "output_type": "stream",
          "text": [
            "Nhung\n",
            "Xin chào : Nhung\n"
          ]
        }
      ],
      "source": [
        "#W2A2\n",
        "print(\"Xin chào :\",input())"
      ]
    },
    {
      "cell_type": "code",
      "execution_count": 11,
      "metadata": {
        "colab": {
          "base_uri": "https://localhost:8080/"
        },
        "id": "LWF9oHME6ZAf",
        "outputId": "9eaa92eb-2c73-42d9-fd98-1283f6eb9520"
      },
      "outputs": [
        {
          "name": "stdout",
          "output_type": "stream",
          "text": [
            "5\n",
            "3\n",
            "Tổng 2 số là: 8 Hiệu hai số là: 2 Tích hai số là: 15 Phần nguyên của phép chia hai số là: 1 Phần dư của phép chia hai số là: 2 Thương của hai số là: 1.67\n"
          ]
        }
      ],
      "source": [
        "#W2A3\n",
        "a=int(input())\n",
        "b=int(input())\n",
        "number=a/b\n",
        "print(\"Tổng 2 số là:\",a+b,\n",
        "      \"Hiệu hai số là:\",a-b,\n",
        "      \"Tích hai số là:\",a*b,\n",
        "      \"Phần nguyên của phép chia hai số là:\",a//b,\n",
        "      \"Phần dư của phép chia hai số là:\",a%b,\n",
        "      \"Thương của hai số là:\",f\"{number:.2f}\")"
      ]
    },
    {
      "cell_type": "code",
      "execution_count": null,
      "metadata": {
        "colab": {
          "base_uri": "https://localhost:8080/"
        },
        "id": "jqYToQxz-Cbv",
        "outputId": "6281c5df-736c-4134-df9a-7c178e22ade0"
      },
      "outputs": [
        {
          "name": "stdout",
          "output_type": "stream",
          "text": [
            "1 2 3 4 5 7\n",
            "Điểm trung bình 6 môn học 4.5\n"
          ]
        }
      ],
      "source": [
        "#W2A4\n",
        "a1,b1,c1,a2,b2,a3= map(float,input().split())\n",
        "TB=((a1+b1+c1)+(a2+b2)*2+a3*3)/10\n",
        "print(\"Điểm trung bình 6 môn học\",f\"{TB:.1f}\")"
      ]
    },
    {
      "cell_type": "code",
      "execution_count": null,
      "metadata": {
        "colab": {
          "base_uri": "https://localhost:8080/"
        },
        "id": "-tA3dImsB_Oz",
        "outputId": "a4f283b1-1205-431f-cffa-bdba541587d9"
      },
      "outputs": [
        {
          "name": "stdout",
          "output_type": "stream",
          "text": [
            "2 3\n",
            "8\n"
          ]
        }
      ],
      "source": [
        "#W2A5\n",
        "a,b=map(int,input().split())\n",
        "print(a**b)"
      ]
    },
    {
      "cell_type": "code",
      "execution_count": null,
      "metadata": {
        "colab": {
          "base_uri": "https://localhost:8080/"
        },
        "id": "THvV4aj3Ce_D",
        "outputId": "02554655-a0cb-4ba7-ed5f-b7bda0383c4c"
      },
      "outputs": [
        {
          "name": "stdout",
          "output_type": "stream",
          "text": [
            "a\n",
            "kí tự Unicode tương ứng là: 97 ,kí tự hoa tương ứng: A\n"
          ]
        }
      ],
      "source": [
        "#W2A6\n",
        "kt=input()\n",
        "kthoa=kt.upper()\n",
        "\n",
        "print(\"kí tự Unicode tương ứng là:\",ord(kt),\",\"\n",
        "      \"kí tự hoa tương ứng:\",kthoa)"
      ]
    },
    {
      "cell_type": "code",
      "execution_count": null,
      "metadata": {
        "colab": {
          "base_uri": "https://localhost:8080/"
        },
        "id": "ICYAJQYlEmha",
        "outputId": "ab9f191f-d62e-438f-f50d-24eeadb3714a"
      },
      "outputs": [
        {
          "name": "stdout",
          "output_type": "stream",
          "text": [
            "512 512\n"
          ]
        }
      ],
      "source": [
        "#W2A7\n",
        "A=((13**2)*3)+5\n",
        "B=13**2*3+5\n",
        "print(A,B)"
      ]
    },
    {
      "cell_type": "code",
      "execution_count": null,
      "metadata": {
        "colab": {
          "base_uri": "https://localhost:8080/"
        },
        "id": "todNA8C2Fkjl",
        "outputId": "f6242411-d56d-45b7-b6c4-08d930cc1eec"
      },
      "outputs": [
        {
          "name": "stdout",
          "output_type": "stream",
          "text": [
            "30\n",
            "Nhiệt độ Fahrenheit là: 86.00\n"
          ]
        }
      ],
      "source": [
        "#W2A8\n",
        "C=float(input())\n",
        "F=9/5*C+32\n",
        "print(\"Nhiệt độ Fahrenheit là:\",f\"{F:.2f}\")"
      ]
    },
    {
      "cell_type": "code",
      "execution_count": null,
      "metadata": {
        "colab": {
          "base_uri": "https://localhost:8080/"
        },
        "id": "j3poAeL1Gidu",
        "outputId": "784f5c7f-dc43-4ae4-8c7b-16c707c049e1"
      },
      "outputs": [
        {
          "name": "stdout",
          "output_type": "stream",
          "text": [
            "4\n",
            "Số tiền Đạt phải trả là: 11.60 USD\n"
          ]
        }
      ],
      "source": [
        "#W2A9\n",
        "x=float(input())\n",
        "money=x*0.3+x*0.1+10\n",
        "print(\"Số tiền Đạt phải trả là:\",f\"{money:.2f}\",\"USD\")"
      ]
    },
    {
      "cell_type": "code",
      "execution_count": 5,
      "metadata": {
        "colab": {
          "base_uri": "https://localhost:8080/"
        },
        "id": "_cfTizn-4IIx",
        "outputId": "a36b2a5c-8695-4544-cf55-b68974ecee51"
      },
      "outputs": [
        {
          "name": "stdout",
          "output_type": "stream",
          "text": [
            "Nhập tên: Bob Alice HElen\n",
            "Hi: HElen, Alice, Bob\n"
          ]
        }
      ],
      "source": [
        "#W2A10\n",
        "a, b, c = input(\"Nhập tên: \").split()\n",
        "print(f\"Hi: {c}, {b}, {a}\")"
      ]
    },
    {
      "cell_type": "code",
      "execution_count": null,
      "metadata": {
        "colab": {
          "base_uri": "https://localhost:8080/"
        },
        "id": "rSYKN2ZmJUdn",
        "outputId": "b17131eb-3739-49bf-a61c-c3c8e5722916"
      },
      "outputs": [
        {
          "name": "stdout",
          "output_type": "stream",
          "text": [
            "2\n",
            "3\n",
            "số giây là: 7380\n"
          ]
        }
      ],
      "source": [
        "#W2A11\n",
        "h=int(input())\n",
        "m=int(input())\n",
        "s=h*3600+m*60\n",
        "print(\"số giây là:\",s)"
      ]
    },
    {
      "cell_type": "code",
      "execution_count": null,
      "metadata": {
        "colab": {
          "base_uri": "https://localhost:8080/"
        },
        "id": "skSlTDQcKSMd",
        "outputId": "081b5184-8e56-4e2f-9b17-8fd90c2ef7bd"
      },
      "outputs": [
        {
          "name": "stdout",
          "output_type": "stream",
          "text": [
            "3\n",
            "Số lượng miếng dán riêng lẻ là: 54\n"
          ]
        }
      ],
      "source": [
        "#W2A12\n",
        "n=int(input())\n",
        "number=6*(n**2)\n",
        "print(\"Số lượng miếng dán riêng lẻ là:\",number)"
      ]
    },
    {
      "cell_type": "code",
      "execution_count": null,
      "metadata": {
        "colab": {
          "base_uri": "https://localhost:8080/"
        },
        "id": "Og5yBCjgMFlv",
        "outputId": "1155d2b0-d4b1-4027-fddc-ee428f49de18"
      },
      "outputs": [
        {
          "name": "stdout",
          "output_type": "stream",
          "text": [
            "3\n",
            "4\n",
            "hàng đơn vị của phép nhân tích 2\n"
          ]
        }
      ],
      "source": [
        "#W2A13\n",
        "a=int(input())\n",
        "b=int(input())\n",
        "number=(a*b)%10\n",
        "print(\"hàng đơn vị của phép nhân tích\",number)"
      ]
    },
    {
      "cell_type": "code",
      "execution_count": null,
      "metadata": {
        "colab": {
          "base_uri": "https://localhost:8080/"
        },
        "id": "0H-SJinsOkHo",
        "outputId": "d0b3dedc-446d-4674-efdd-56ac7b76b38f"
      },
      "outputs": [
        {
          "name": "stdout",
          "output_type": "stream",
          "text": [
            "2\n",
            "3\n",
            "3 2\n"
          ]
        }
      ],
      "source": [
        "#W2A14\n",
        "a=int(input())\n",
        "b=int(input())\n",
        "a,b=b,a\n",
        "print(a,b)\n",
        "\n"
      ]
    },
    {
      "cell_type": "code",
      "execution_count": 3,
      "metadata": {
        "colab": {
          "base_uri": "https://localhost:8080/"
        },
        "id": "WmyFpj3g33U4",
        "outputId": "6242125a-a5af-49bb-acae-e3dfa2f5c45c"
      },
      "outputs": [
        {
          "name": "stdout",
          "output_type": "stream",
          "text": [
            "3\n",
            "số sao thứ 3 là: 37\n"
          ]
        }
      ],
      "source": [
        "#W2A15\n",
        "n=int(input())\n",
        "print(\"số sao thứ\",n,\"là:\",6*n*(n-1)+1)"
      ]
    },
    {
      "cell_type": "code",
      "execution_count": null,
      "metadata": {
        "colab": {
          "base_uri": "https://localhost:8080/"
        },
        "id": "J4KUPg6ZqD9d",
        "outputId": "6edaf379-27cc-45c8-c959-e1fc8b67dc48"
      },
      "outputs": [
        {
          "name": "stdout",
          "output_type": "stream",
          "text": [
            "Spring\n",
            "Summer\n",
            "Autumn\n",
            "Winter\n"
          ]
        }
      ],
      "source": [
        "#W2A16\n",
        "print(\"Spring\")\n",
        "print(\"Summer\")\n",
        "print(\"Autumn\")\n",
        "print(\"Winter\")"
      ]
    },
    {
      "cell_type": "code",
      "execution_count": 8,
      "metadata": {
        "colab": {
          "base_uri": "https://localhost:8080/"
        },
        "id": "elUj5TuE4jhR",
        "outputId": "6c035976-203b-48be-a08c-ba4f23e701f0"
      },
      "outputs": [
        {
          "name": "stdout",
          "output_type": "stream",
          "text": [
            "*\n",
            "***\n",
            "*****\n"
          ]
        }
      ],
      "source": [
        "#W2A17\n",
        "for i in range (1,6,2):\n",
        "  print(\"*\"*i)"
      ]
    },
    {
      "cell_type": "code",
      "execution_count": null,
      "metadata": {
        "colab": {
          "base_uri": "https://localhost:8080/"
        },
        "id": "RuCEAnSTs3bq",
        "outputId": "8f2aa179-835d-49ad-c059-4ba6000816ea"
      },
      "outputs": [
        {
          "name": "stdout",
          "output_type": "stream",
          "text": [
            "### # #  ### ###\n",
            " #  #  #  #   #\n",
            " #  #   # #   #\n",
            " #  #  #  #   #\n",
            " #  # #   #   #\n"
          ]
        }
      ],
      "source": [
        "#W2A18\n",
        "print(\"### # #  ### ###\")\n",
        "print(\" #  #  #  #   #\")\n",
        "print(\" #  #   # #   #\")\n",
        "print(\" #  #  #  #   #\")\n",
        "print(\" #  # #   #   #\")\n",
        "#print('''###########\n",
        "  )"
      ]
    },
    {
      "cell_type": "code",
      "execution_count": null,
      "metadata": {
        "colab": {
          "base_uri": "https://localhost:8080/"
        },
        "id": "yuPYeMJ2uuY2",
        "outputId": "781da084-5e74-4b4b-dff1-175be3343bf4"
      },
      "outputs": [
        {
          "name": "stdout",
          "output_type": "stream",
          "text": [
            "Monday\n",
            "Tuesday\n",
            "Wednesday\n",
            "Thursday\n",
            "Friday\n",
            "Saturday\n",
            "Sunday\n"
          ]
        }
      ],
      "source": [
        "#W2A19\n",
        "print(\"Monday\\nTuesday\\nWednesday\\nThursday\\nFriday\\nSaturday\\nSunday\")"
      ]
    },
    {
      "cell_type": "code",
      "execution_count": null,
      "metadata": {
        "colab": {
          "base_uri": "https://localhost:8080/"
        },
        "id": "x0u23nTYwrcx",
        "outputId": "e72e3107-9e43-4314-ef24-4b93fc14bdbe"
      },
      "outputs": [
        {
          "name": "stdout",
          "output_type": "stream",
          "text": [
            "January\n",
            "February\n",
            "March\n",
            "April\n",
            "May\n",
            "June\n",
            "July\n",
            "August\n",
            "September\n",
            "October\n",
            "November\n",
            "December\n",
            "January\n",
            "February\n",
            "March\n",
            "April\n",
            "May\n",
            "June\n",
            "July\n",
            "August\n",
            "September\n",
            "October\n",
            "November\n",
            "December\n"
          ]
        }
      ],
      "source": [
        "#W2A20\n",
        "print('''January\n",
        "February\n",
        "March\n",
        "April\n",
        "May\n",
        "June\n",
        "July\n",
        "August\n",
        "September\n",
        "October\n",
        "November\n",
        "December''')"
      ]
    },
    {
      "cell_type": "code",
      "execution_count": null,
      "metadata": {
        "colab": {
          "base_uri": "https://localhost:8080/"
        },
        "id": "HNsyd90lxule",
        "outputId": "7ef00db5-65ec-4773-d847-478c5060b31f"
      },
      "outputs": [
        {
          "name": "stdout",
          "output_type": "stream",
          "text": [
            "Hello,World\n",
            "Hello,World\n",
            "Hello,World\n",
            "Hello,World\n",
            "Hello,World\n",
            "Hello,World\n",
            "Hello,World\n",
            "Hello,World\n",
            "Hello,World\n",
            "Hello,World\n"
          ]
        }
      ],
      "source": [
        "#W2A21\n",
        "for i in range(1,11):\n",
        "  print(\"Hello,World\")\n"
      ]
    }
  ],
  "metadata": {
    "colab": {
      "provenance": []
    },
    "kernelspec": {
      "display_name": "Python 3",
      "name": "python3"
    },
    "language_info": {
      "name": "python"
    }
  },
  "nbformat": 4,
  "nbformat_minor": 0
}
